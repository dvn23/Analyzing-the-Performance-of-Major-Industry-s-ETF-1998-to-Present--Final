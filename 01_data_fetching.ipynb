{
 "cells": [
  {
   "cell_type": "code",
   "execution_count": 2,
   "id": "9855499a-1fc9-4838-913d-76d63f19df90",
   "metadata": {},
   "outputs": [],
   "source": [
    "import yfinance as yf\n",
    "from pandas_datareader import data as pdr"
   ]
  },
  {
   "cell_type": "code",
   "execution_count": 3,
   "id": "95aa543f-355c-4022-92c3-ab1994ae1636",
   "metadata": {},
   "outputs": [
    {
     "name": "stderr",
     "output_type": "stream",
     "text": [
      "[*********************100%***********************]  13 of 13 completed\n",
      "/var/folders/k_/0mq2xpk11qsbs0w910pf9c1r0000gn/T/ipykernel_10274/3742877335.py:21: FutureWarning: The previous implementation of stack is deprecated and will be removed in a future version of pandas. See the What's New notes for pandas 2.1.0 for details. Specify future_stack=True to adopt the new implementation and silence this warning.\n",
      "  stock_df = stock_data.stack().reset_index()\n"
     ]
    }
   ],
   "source": [
    "#Downloading stock Data \n",
    "\n",
    "sector_etfs = [\n",
    "    \"SPY\",  # S&P 500 (Market Benchmark)\n",
    "    \"QQQ\", \"XLK\",  # Technology\n",
    "    \"XLE\", \"TAN\",  # Energy\n",
    "    \"XLV\", \"IHI\",  # Healthcare\n",
    "    \"XLF\", \"KRE\",  # Financials\n",
    "    \"VNQ\", \"IYR\",  # Real Estate\n",
    "    \"XLI\", \"ITA\"   # Industrials\n",
    "]\n",
    "\n",
    "# Define date range\n",
    "start_date = \"1993-01-01\"\n",
    "end_date = \"2025-03-14\"\n",
    "\n",
    "# Download historical stock data (keeping all columns)\n",
    "stock_data = yf.download(sector_etfs, start=start_date, end=end_date, interval=\"1d\",auto_adjust=False)\n",
    "\n",
    "# Reshape data: Convert wide format to long format\n",
    "stock_df = stock_data.stack().reset_index()"
   ]
  },
  {
   "cell_type": "code",
   "execution_count": 13,
   "id": "f4ab24f3-fcb6-4ec0-8aec-c979944bc4d5",
   "metadata": {},
   "outputs": [],
   "source": [
    "# Define macroeconomic indicators from FRED + Download data \n",
    "macro_indicators =[\"DGS10\",\"CPIAUCSL\",\"GDP\",\"UNRATE\",\"FEDFUNDS\",\"VIXCLS\"]\n",
    "\n",
    "# Define date range (match stock data range)\n",
    "start_date = \"1993-01-01\"\n",
    "end_date = \"2025-03-14\"\n",
    "\n",
    "# Fetch macroeconomic data from FRED\n",
    "macro_data = pdr.get_data_fred(macro_indicators, start=start_date, end=end_date)"
   ]
  },
  {
   "cell_type": "code",
   "execution_count": 15,
   "id": "39967385-78a6-4454-8b3c-c0de04cf0fb1",
   "metadata": {},
   "outputs": [
    {
     "data": {
      "text/html": [
       "<div>\n",
       "<style scoped>\n",
       "    .dataframe tbody tr th:only-of-type {\n",
       "        vertical-align: middle;\n",
       "    }\n",
       "\n",
       "    .dataframe tbody tr th {\n",
       "        vertical-align: top;\n",
       "    }\n",
       "\n",
       "    .dataframe thead th {\n",
       "        text-align: right;\n",
       "    }\n",
       "</style>\n",
       "<table border=\"1\" class=\"dataframe\">\n",
       "  <thead>\n",
       "    <tr style=\"text-align: right;\">\n",
       "      <th></th>\n",
       "      <th>DGS10</th>\n",
       "      <th>CPIAUCSL</th>\n",
       "      <th>GDP</th>\n",
       "      <th>UNRATE</th>\n",
       "      <th>FEDFUNDS</th>\n",
       "      <th>VIXCLS</th>\n",
       "    </tr>\n",
       "    <tr>\n",
       "      <th>DATE</th>\n",
       "      <th></th>\n",
       "      <th></th>\n",
       "      <th></th>\n",
       "      <th></th>\n",
       "      <th></th>\n",
       "      <th></th>\n",
       "    </tr>\n",
       "  </thead>\n",
       "  <tbody>\n",
       "    <tr>\n",
       "      <th>1993-01-01</th>\n",
       "      <td>NaN</td>\n",
       "      <td>142.8</td>\n",
       "      <td>6729.459</td>\n",
       "      <td>7.3</td>\n",
       "      <td>3.02</td>\n",
       "      <td>NaN</td>\n",
       "    </tr>\n",
       "    <tr>\n",
       "      <th>1993-01-04</th>\n",
       "      <td>6.60</td>\n",
       "      <td>NaN</td>\n",
       "      <td>NaN</td>\n",
       "      <td>NaN</td>\n",
       "      <td>NaN</td>\n",
       "      <td>13.36</td>\n",
       "    </tr>\n",
       "    <tr>\n",
       "      <th>1993-01-05</th>\n",
       "      <td>6.61</td>\n",
       "      <td>NaN</td>\n",
       "      <td>NaN</td>\n",
       "      <td>NaN</td>\n",
       "      <td>NaN</td>\n",
       "      <td>13.35</td>\n",
       "    </tr>\n",
       "    <tr>\n",
       "      <th>1993-01-06</th>\n",
       "      <td>6.63</td>\n",
       "      <td>NaN</td>\n",
       "      <td>NaN</td>\n",
       "      <td>NaN</td>\n",
       "      <td>NaN</td>\n",
       "      <td>13.37</td>\n",
       "    </tr>\n",
       "    <tr>\n",
       "      <th>1993-01-07</th>\n",
       "      <td>6.76</td>\n",
       "      <td>NaN</td>\n",
       "      <td>NaN</td>\n",
       "      <td>NaN</td>\n",
       "      <td>NaN</td>\n",
       "      <td>14.72</td>\n",
       "    </tr>\n",
       "  </tbody>\n",
       "</table>\n",
       "</div>"
      ],
      "text/plain": [
       "            DGS10  CPIAUCSL       GDP  UNRATE  FEDFUNDS  VIXCLS\n",
       "DATE                                                           \n",
       "1993-01-01    NaN     142.8  6729.459     7.3      3.02     NaN\n",
       "1993-01-04   6.60       NaN       NaN     NaN       NaN   13.36\n",
       "1993-01-05   6.61       NaN       NaN     NaN       NaN   13.35\n",
       "1993-01-06   6.63       NaN       NaN     NaN       NaN   13.37\n",
       "1993-01-07   6.76       NaN       NaN     NaN       NaN   14.72"
      ]
     },
     "execution_count": 15,
     "metadata": {},
     "output_type": "execute_result"
    }
   ],
   "source": [
    "macro_data.head()"
   ]
  },
  {
   "cell_type": "code",
   "execution_count": null,
   "id": "c08013eb-8ce7-4c81-9deb-70c65a018fe4",
   "metadata": {},
   "outputs": [],
   "source": []
  }
 ],
 "metadata": {
  "kernelspec": {
   "display_name": "Python [conda env:base] *",
   "language": "python",
   "name": "conda-base-py"
  },
  "language_info": {
   "codemirror_mode": {
    "name": "ipython",
    "version": 3
   },
   "file_extension": ".py",
   "mimetype": "text/x-python",
   "name": "python",
   "nbconvert_exporter": "python",
   "pygments_lexer": "ipython3",
   "version": "3.12.4"
  }
 },
 "nbformat": 4,
 "nbformat_minor": 5
}
